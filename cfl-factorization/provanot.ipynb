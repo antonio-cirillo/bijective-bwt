{
 "cells": [
  {
   "cell_type": "code",
   "execution_count": 32,
   "metadata": {},
   "outputs": [],
   "source": [
    "from util.cfl import cfl\n",
    "from util.suffix_array import suffix_array_manber_myers\n",
    "\n",
    "\n",
    "class Rotation:\n",
    "    def __init__(self, w: int, r: int):\n",
    "        # index of factor\n",
    "        self.w = w\n",
    "        # index of the first character generating the rotation\n",
    "        self.r = r\n",
    "    # str to let classes print value instead of object\n",
    "    def __str__(self):\n",
    "        return f\"w: {self.w}\\n\" \\\n",
    "               f\"r: {self.r}\"\n",
    "\n",
    "\n",
    "def sort_rotations(factors: [str], rotations_of_all_factors: [[Rotation]]):\n",
    "    # for all rotations of i-th factor\n",
    "    for i, rotations in enumerate(rotations_of_all_factors):\n",
    "        # get the suffix array on the factor\n",
    "        suffix_array = suffix_array_manber_myers(factors[i])\n",
    "        # use suffix_array for update order of the factor's rotations\n",
    "        for j, r in enumerate(suffix_array):\n",
    "            #assign suffix value to \"first character that generate rotation\"\n",
    "            rotations[j].r = r\n",
    "    #return all rotations merged\n",
    "    return merge_rots(factors,rotations_of_all_factors)\n",
    "\n",
    "def merge_rots(factors, rots):\n",
    "    merged = []\n",
    "    while len(rots) > 0:\n",
    "        #call merge_rot on every element of rots (Rotation object can contain multiple rotation based on the factor and coniugate numbers)\n",
    "        merged = merge_rot(factors, merged, rots[0])\n",
    "        #discard the first element of rots because it's already merged\n",
    "        rots = rots[1:]\n",
    "    return merged\n",
    "\n",
    "def merge_rot(factors, a, b):\n",
    "    #a will be a list of the factor merged since this execution\n",
    "    #b will be the list of factor to merge\n",
    "    la = len(a)\n",
    "    lb = len(b)\n",
    "    length = la + lb\n",
    "    out = [None] * length\n",
    "    i = 0\n",
    "    j = 0\n",
    "    k = 0\n",
    "    #check if the index is less than lenght of the two factor \n",
    "    while i < la and j < lb:\n",
    "        #less rot check if b[j] is greater or not than a[i] and return true if is less and false if is greater\n",
    "        if less_rot(factors, b[j], a[i]):\n",
    "            out[k] = b[j]\n",
    "            j += 1\n",
    "        else:\n",
    "            out[k] = a[i]\n",
    "            i += 1\n",
    "        k += 1\n",
    "    #this mean that we added to out all the element of lb or of la then we add from k all element of a from i and viceversa\n",
    "    if i < la:\n",
    "        out[k:] = a[i:]\n",
    "    elif j < lb:\n",
    "        out[k:] = b[j:]\n",
    "    return out\n",
    "\n",
    "    #less_rot take value from both rotation passed by parameters\n",
    "def less_rot(factors, i, j):\n",
    "    wi = i.w\n",
    "    ri = i.r\n",
    "    li = len(factors[wi])\n",
    "    wj = j.w\n",
    "    rj = j.r\n",
    "    lj = len(factors[wj])\n",
    "    for k in range(li * lj):\n",
    "        #check if the factor to merge is less than factor already merged\n",
    "        if factors[wi][ri] < factors[wj][rj]:\n",
    "            return True\n",
    "        #if is greater than return false\n",
    "        elif factors[wi][ri] > factors[wj][rj]:\n",
    "            return False\n",
    "        #else all the factors are equals then this have to increment value \n",
    "        #if ri or rj are equal to lenght of one of two factor then will set to 0 the value\n",
    "        #simply as modular increment\n",
    "        ri += 1\n",
    "        rj += 1\n",
    "        if ri == li:\n",
    "            ri = 0\n",
    "        if rj == lj:\n",
    "            rj = 0\n",
    "    return False\n",
    "\n",
    "\n",
    "def encode(string: str) -> str:\n",
    "    # get all lyndon factors of string\n",
    "    factors: [str] = cfl(string)\n",
    "    output = []  # ?\n",
    "\n",
    "    rotations_of_factors: [[Rotation]] = []\n",
    "    # for each i-th factor w\n",
    "    for i, w in enumerate(factors):\n",
    "        # declare array which contains all rotation of string w\n",
    "        rotations_of_w: [Rotation] = [None] * len(w)\n",
    "        # for each j-th character of w\n",
    "        for j in range(len(w)):\n",
    "            # j-th rotation of w is equal to (i, j)\n",
    "            rotations_of_w[j] = Rotation(i, j)\n",
    "        # append all rotation of w\n",
    "        rotations_of_factors.append(rotations_of_w)\n",
    "    \n",
    "    #merge and order by ascending all factors and coniugates\n",
    "    s_rot = sort_rotations(factors, rotations_of_factors)\n",
    "    out = [None] * len(string)\n",
    "    #select the rightmost letters from factors\n",
    "    for i, rotation in enumerate(s_rot):\n",
    "        ri = rotation.r - 1\n",
    "        if ri < 0:\n",
    "            ri += len(factors[rotation.w])\n",
    "        out[i] = factors[rotation.w][ri]\n",
    "    return ''.join(out)\n",
    "\n"
   ]
  },
  {
   "cell_type": "code",
   "execution_count": 33,
   "metadata": {},
   "outputs": [],
   "source": [
    "provast = \"L implementazione del nostro algoritmo di pre-processing si basa su un \\\n",
    "precedente progetto, scritto in C, sulle fattorizzazioni di Lyndon [CFL] e\\\n",
    "sulla fattorizzazione inversa [ICFL]. Tale implementazione è stata gentilmente\\\n",
    "fornita dai professori, e rappresenta il lavoro svolto precedentemente su questo\\\n",
    "argomento nel corso degli anni. Questa implementazione possiede delle librerie\\\n",
    "che forniscono accesso a una serie di funzioni, le quali consentono di calcolare\\\n",
    "le due fattorizzazioni di una qualunque stringa nativa di C (una che calcola la\\\n",
    "CFL e una che calcola la ICFL). Laccortezza particolare che riguarda questa\\\n",
    "libreria è che per poter rendere lalgoritmo funzionante su un file con codifica\\\n",
    "ASCII cè bisogno di utilizzare un separatore non presente nel testo. Lunico\\\n",
    "cambio degno di nota al codice, già noto, per questa libreria è la sostituzione\\\n",
    "del carattere separatore usato per calcolare la ICFL.\""
   ]
  },
  {
   "cell_type": "code",
   "execution_count": 38,
   "metadata": {},
   "outputs": [
    {
     "data": {
      "text/plain": [
       "'.Ciaa..i..naooaniièeerilaaèelneilIaoooeaioeooioe,L]aeeneoia,aeaeoeaeèael,aeaoeeliàaoe,erinonieearauere,neagaèeeea,oluueeiaeiaae LieiooCeL)oi]a  aII[ISCCCCCI  [CFFFLFF    A   LLllstnntvltttlltgzndnls iicl Ld ccccT lutuc nrppcullzlopbtnsrrrfffltzttzz m iiii    o aaieeoc  e  i  llill s  cs r e  e  een        oon hhrldilluhnlnrrltrhntl hruttr rncrrriincctdddndnrdllltrsmmmsdmmdgmsssppptdtrrsrvrrccfuuutu gt   oi  e  nn o eeorllicccccddlsdlnndddaddrnnrrlllfdntrrsdr ftt    sr bzzzzzzzzznbnrrrttlrrrgeaeiee  loo   ooo aaaaielal pppaagaa  iuueioaaeeeelottiiioiouuouuuuuo eyooooo  iiooonurraoogg    uoeeeeeeeaeeeeeiuusnsirnnmnmttttrttttcrccrrscccccvgdcniiiiiiiiictcttsggtttffvccpsnnpnee    mmm  a   p -    n   eeee aaaaaaeoeaopppa bbbppaoeeee toocoooootopppeooaraui een    sssris oeeeeee oee o   e  oianssssnnnnnnnnnot rrunsaiitnalotssnaatttssaieaaaisssqqgdqQqqqss    (  Llff  tinsaLzzzzznaaaauaaneiiiiic   '"
      ]
     },
     "execution_count": 38,
     "metadata": {},
     "output_type": "execute_result"
    }
   ],
   "source": [
    "encode(provast)"
   ]
  },
  {
   "cell_type": "code",
   "execution_count": 35,
   "metadata": {},
   "outputs": [
    {
     "data": {
      "text/plain": [
       "'annbaa'"
      ]
     },
     "execution_count": 35,
     "metadata": {},
     "output_type": "execute_result"
    }
   ],
   "source": [
    "encode(\"banana\")"
   ]
  },
  {
   "cell_type": "code",
   "execution_count": 36,
   "metadata": {},
   "outputs": [
    {
     "data": {
      "text/plain": [
       "['L',\n",
       " ' implementazione',\n",
       " ' del nostro',\n",
       " ' algoritmo di pre-processing si basa su un precedente progetto, scritto in',\n",
       " ' C, sulle fattorizzazioni di Lyndon [CFL] esulla fattorizzazione inversa [ICFL]. Tale implementazione è stata gentilmentefornita dai professori, e rappresenta il lavoro svolto precedentemente su questoargomento nel corso degli anni. Questa implementazione possiede delle librerieche forniscono accesso a una serie di funzioni, le quali consentono di calcolarele due fattorizzazioni di una qualunque stringa nativa di',\n",
       " ' C',\n",
       " ' (una che calcola laCFL e una che calcola la ICFL). Laccortezza particolare che riguarda questalibreria è che per poter rendere lalgoritmo funzionante su un file con codificaASCII cè bisogno di utilizzare un separatore non presente nel testo. Lunicocambio degno di nota al codice, già noto, per questa libreria è la sostituzionedel carattere separatore usato per calcolare la ICFL.']"
      ]
     },
     "execution_count": 36,
     "metadata": {},
     "output_type": "execute_result"
    }
   ],
   "source": [
    "cfl(provast)"
   ]
  }
 ],
 "metadata": {
  "kernelspec": {
   "display_name": "Python 3.10.6 ('fl')",
   "language": "python",
   "name": "python3"
  },
  "language_info": {
   "codemirror_mode": {
    "name": "ipython",
    "version": 3
   },
   "file_extension": ".py",
   "mimetype": "text/x-python",
   "name": "python",
   "nbconvert_exporter": "python",
   "pygments_lexer": "ipython3",
   "version": "3.10.6"
  },
  "orig_nbformat": 4,
  "vscode": {
   "interpreter": {
    "hash": "ed044a7b089ea2ea9fea3fe605a34a7fa9c5a8ad2a3a4f5029ecca9d72d4a2e7"
   }
  }
 },
 "nbformat": 4,
 "nbformat_minor": 2
}
