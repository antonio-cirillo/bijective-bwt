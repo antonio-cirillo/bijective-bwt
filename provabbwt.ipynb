{
 "cells": [
  {
   "cell_type": "code",
   "execution_count": 58,
   "metadata": {},
   "outputs": [],
   "source": [
    "with open(\"files/non-comp/provast\",\"r\") as f:\n",
    "    provast = f.read()\n"
   ]
  },
  {
   "cell_type": "code",
   "execution_count": 59,
   "metadata": {},
   "outputs": [],
   "source": [
    "from bbwt_cfl.encode import encode\n",
    "from decode import decode\n",
    "from huffman.huffman import huffman_decoding, huffman_encoding\n",
    "from util.file import COMPRESSED_FILE_NAME\n",
    "from util.file import write_compressed_file\n",
    "from util.file import read_compressed_file\n",
    "from mtf import m2f_d, m2f_e"
   ]
  },
  {
   "cell_type": "code",
   "execution_count": 60,
   "metadata": {},
   "outputs": [],
   "source": [
    "#genera un alfabeto, in questo caso con tutti i 256 caratteri\n",
    "st = []\n",
    "for i in range(65536):\n",
    "    st.append(chr(i))\n"
   ]
  },
  {
   "cell_type": "code",
   "execution_count": 61,
   "metadata": {},
   "outputs": [],
   "source": [
    "bbwtenc = encode(provast)"
   ]
  },
  {
   "cell_type": "code",
   "execution_count": 62,
   "metadata": {},
   "outputs": [],
   "source": [
    "m2fenc = m2f_e(bbwtenc,st[::])"
   ]
  },
  {
   "cell_type": "code",
   "execution_count": 63,
   "metadata": {},
   "outputs": [],
   "source": [
    "hufencm, tree = huffman_encoding(m2fenc)"
   ]
  },
  {
   "cell_type": "code",
   "execution_count": 64,
   "metadata": {},
   "outputs": [],
   "source": [
    "compressed_file_name: str = COMPRESSED_FILE_NAME.format(size=len(hufencm))\n",
    "compressed_file_path: str = write_compressed_file(compressed_file_name, hufencm)\n"
   ]
  },
  {
   "cell_type": "code",
   "execution_count": 65,
   "metadata": {},
   "outputs": [
    {
     "data": {
      "text/plain": [
       "'29939_compressed'"
      ]
     },
     "execution_count": 65,
     "metadata": {},
     "output_type": "execute_result"
    }
   ],
   "source": [
    "compressed_file_name"
   ]
  },
  {
   "cell_type": "code",
   "execution_count": 66,
   "metadata": {},
   "outputs": [],
   "source": [
    "# read compressed file\n",
    "compressed_data: str = read_compressed_file(compressed_file_name)\n",
    "# use huffman decoding\n",
    "decompressed_data = huffman_decoding(compressed_data, tree)\n"
   ]
  },
  {
   "cell_type": "code",
   "execution_count": 67,
   "metadata": {},
   "outputs": [],
   "source": [
    "m2dec = m2f_d(decompressed_data,st[::])"
   ]
  },
  {
   "cell_type": "code",
   "execution_count": 68,
   "metadata": {},
   "outputs": [],
   "source": [
    "fin = decode(m2dec)"
   ]
  },
  {
   "cell_type": "code",
   "execution_count": 76,
   "metadata": {},
   "outputs": [
    {
     "data": {
      "text/plain": [
       "True"
      ]
     },
     "execution_count": 76,
     "metadata": {},
     "output_type": "execute_result"
    }
   ],
   "source": [
    "fin == provast"
   ]
  }
 ],
 "metadata": {
  "kernelspec": {
   "display_name": "Python 3.10.6 ('fl')",
   "language": "python",
   "name": "python3"
  },
  "language_info": {
   "codemirror_mode": {
    "name": "ipython",
    "version": 3
   },
   "file_extension": ".py",
   "mimetype": "text/x-python",
   "name": "python",
   "nbconvert_exporter": "python",
   "pygments_lexer": "ipython3",
   "version": "3.10.6"
  },
  "orig_nbformat": 4,
  "vscode": {
   "interpreter": {
    "hash": "ed044a7b089ea2ea9fea3fe605a34a7fa9c5a8ad2a3a4f5029ecca9d72d4a2e7"
   }
  }
 },
 "nbformat": 4,
 "nbformat_minor": 2
}
